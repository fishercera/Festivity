{
 "cells": [
  {
   "cell_type": "markdown",
   "id": "9129474c-d498-47f8-bedf-df9ebc2512dc",
   "metadata": {},
   "source": [
    "## Mathematically Satisfying Wheel of the Year\n",
    "\n",
    "My spouse and I invented this holiday scheme the year that they started grad school*, 2011, when we were living in Providence, RI. We're both atheists, but we love celebrations, and we think traditions are important. Also, I had spent a hot minute in my teens as a Wiccan, and I really loved the \"Wheel of the Year\" style of holidays, where you celebrate the solar solstices and equinoxes as major holidays, and dates directly in between those holidays as minor holidays. This \"Quarters and Cross-Quarters\" approach means you have a holiday about every other month! \n",
    "\n",
    "They really liked that to, but they added a fun extra bit -- what if the major holidays were \"maximum festivity\", like 100% festive, and the minor holidays were half-power festivity, 50% festive? We quickly realized that we could probably map a trigonometric function to that, and that that would also mean that directly in between each holiday you would have a festivity nadir -- a time of absolute minimum festivity. \n",
    "\n",
    "Neither of us are good enough mathematicians to figure out how to derive that exact function, so we asked a math professor friend. The function he responded with was: "
   ]
  },
  {
   "cell_type": "markdown",
   "id": "99e3029b-7969-4240-b591-cecede77b7c9",
   "metadata": {},
   "source": [
    "$$\r\n",
    "f(x) = \\left[ \\frac{1}{8}(2 - \\sqrt{2}) + \\frac{1}{4}(2 + \\sqrt{2}) \\cos(2x) + \\frac{1}{8}(2 - \\sqrt{2}) \\cos(4x) \\right]^2\r\n",
    "$$\r\n"
   ]
  },
  {
   "cell_type": "markdown",
   "id": "d53cad25-8fbe-48ca-806e-04c4c2b85563",
   "metadata": {},
   "source": [
    "An intimidatingly impressive function, to be sure. You can see (and check!) his work in the PDF in this workspace. \n",
    "\n",
    "### The need for code\n",
    "\n",
    "Obviously, we now need to be able to calculate the exact amount of festivity at any given moment, so now we have to write some python code. To be completely blunt, we haven't ever actually finished this project. In fact, finishing the project itself has become sort of a yearly tradition, because in the run up to every winter solstice, we have a little freakout about the fact that we STILL haven't finished this software, and we can't therefore direct people to our envisioned website where they can put in a date and get back the festivity index. \n",
    "\n",
    "Some of the reason we haven't finished is because it's actually kind of hard, and some of it is because of typical scope creep. The thing that's actually HARD about this is that we wanted to pin it to the \"real\" solar holidays: Winter Solstice is when the Solar Declination is -23.5 degrees. Because these are real objects in three dimensional space, and gravity makes things wobbly, and the calendar isn't really \"right\" anyway, Winter Solstice as an astronomical event isn't actually at the same time every year. It's at or around December 21. In the Northern Hemisphere, that is. \n",
    "The scope creep was about wanting to add additional bells and whistles. We actually started out doing this in 2012 in a jupyter notebook using the package pyEphem to calculate the exact major solar holidays based on solar declination, and then I learned R, and we wanted to be able to plot the festivity function using ggplot2, but getting the holidays was much much harder in R. \n",
    "\n",
    "I hate to say it, but LLMs have actually ended up helping us get much closer to finishing this project. That, and limiting our scope and making some concessions. Instead of calculating the exact solar holidays each year, we're just gonna call the dates for each major holiday, and then use those to get the dates for the other holidays. It won't be perfect, but it's about right. Once I decided to do that, it was relatively easy to get ChatGPT 4o to write the functions, with only some minimal editing from me. "
   ]
  },
  {
   "cell_type": "markdown",
   "id": "066d927f-58bf-4bca-a1f3-b2f18c434adf",
   "metadata": {},
   "source": [
    "## Convert Major holiday dates into Radians"
   ]
  },
  {
   "cell_type": "code",
   "execution_count": 14,
   "id": "39af5437-bc2f-4f4b-9538-8443f3292bf1",
   "metadata": {},
   "outputs": [],
   "source": [
    "from datetime import datetime, timedelta\n",
    "import math\n",
    "\n",
    "def date_as_x(date: datetime) -> float:\n",
    "    \"\"\"\n",
    "    Converts a date within the year to radians, mapping the time interval\n",
    "    linearly from 0 to pi for the corresponding quarter.\n",
    "    \n",
    "    Parameters:\n",
    "    - date: The date to be converted (datetime object).\n",
    "    \n",
    "    Returns:\n",
    "    - A float representing the date in radians, ranging from 0 to pi.\n",
    "    \"\"\"\n",
    "    year = date.year\n",
    "    \n",
    "    # Define the boundaries for each quarter\n",
    "    winter_solstice = datetime(year - 1, 12, 21)  # Winter Solstice of the previous year\n",
    "    spring_equinox = datetime(year, 3, 20)        # Spring Equinox\n",
    "    summer_solstice = datetime(year, 6, 21)       # Summer Solstice\n",
    "    fall_equinox = datetime(year, 9, 22)          # Fall Equinox\n",
    "    next_winter_solstice = datetime(year, 12, 21) # Winter Solstice of the current year\n",
    "\n",
    "    # Determine the quarter based on the date\n",
    "    if winter_solstice <= date <= spring_equinox:\n",
    "        start_date, end_date = winter_solstice, spring_equinox\n",
    "    elif spring_equinox <= date <= summer_solstice:\n",
    "        start_date, end_date = spring_equinox, summer_solstice\n",
    "    elif summer_solstice <= date <= fall_equinox:\n",
    "        start_date, end_date = summer_solstice, fall_equinox\n",
    "    elif fall_equinox <= date <= next_winter_solstice:\n",
    "        start_date, end_date = fall_equinox, next_winter_solstice\n",
    "    else:\n",
    "        raise ValueError(f\"Date must be within the current year's range.\")\n",
    "\n",
    "    # Calculate total days in the current quarter\n",
    "    total_days = (end_date - start_date).days\n",
    "\n",
    "    # Calculate the number of days since the start of the quarter\n",
    "    days_since_start = (date - start_date).days\n",
    "\n",
    "    # Map the days to radians, linearly scaling from 0 to pi\n",
    "    radians = (days_since_start / total_days) * math.pi\n",
    "    \n",
    "    return radians\n"
   ]
  },
  {
   "cell_type": "markdown",
   "id": "e1a10f33-1fbb-4389-b2c7-edd79644764a",
   "metadata": {},
   "source": [
    "#### Test"
   ]
  },
  {
   "cell_type": "code",
   "execution_count": 2,
   "id": "046c2cc1-28a1-4c86-87e3-dd0bf55db0ee",
   "metadata": {},
   "outputs": [],
   "source": [
    "date_as_x(datetime(2024, 8, 14))\n",
    "\n",
    "test1 = date_as_x(datetime(2024, 8, 14))\n",
    "test2 = date_as_x(datetime(2021, 12, 21))\n",
    "test3 = date_as_x(datetime.now())"
   ]
  },
  {
   "cell_type": "markdown",
   "id": "ffda21f5-d53e-4d7b-8620-dddc1184787b",
   "metadata": {},
   "source": [
    "## Define cosine function to get the Festivity of the date"
   ]
  },
  {
   "cell_type": "code",
   "execution_count": 3,
   "id": "4e20bf80-b368-4868-88ba-96ab37d42e47",
   "metadata": {},
   "outputs": [],
   "source": [
    "def cosine_formula(x: float) -> float:\n",
    "    \"\"\"\n",
    "    Applies the given cosine-based formula to the input radians value.\n",
    "    \n",
    "    f(x) = (1/8 * (2 - sqrt(2))) + (1/4 * (2 + (sqrt(2) * cos(2x)))) + (1/8 * (2 - sqrt(2) * cos(4x)))\n",
    "    \n",
    "    Parameters:\n",
    "    - x: The input radians value (float).\n",
    "    \n",
    "    Returns:\n",
    "    - The result of the formula (float).\n",
    "    \"\"\"\n",
    "    term1 = 1/8 * (2 - math.sqrt(2))\n",
    "    term2 = 1/4 * (2 + (math.sqrt(2) * math.cos(2 * x)))\n",
    "    term3 = 1/8 * (2 - math.sqrt(2) * math.cos(4 * x))\n",
    "    \n",
    "    result = term1 + term2 + term3\n",
    "    return result\n"
   ]
  },
  {
   "cell_type": "markdown",
   "id": "528c1a1c-1b68-458f-bb7c-eb25ca47a180",
   "metadata": {},
   "source": [
    "#### Test"
   ]
  },
  {
   "cell_type": "code",
   "execution_count": 4,
   "id": "5a23950a-b59f-44e7-8992-fc6bd8f71d25",
   "metadata": {},
   "outputs": [
    {
     "name": "stdout",
     "output_type": "stream",
     "text": [
      "0.42058658433523405\n",
      "1.0\n",
      "0.6483202558683268\n"
     ]
    }
   ],
   "source": [
    "print(cosine_formula(test1))\n",
    "print(cosine_formula(test2))\n",
    "print(cosine_formula(test3))"
   ]
  },
  {
   "cell_type": "markdown",
   "id": "f76b5bd0-218b-46b4-95aa-0522d8c2b5e5",
   "metadata": {},
   "source": [
    "## Get the series of dates for a year\n",
    "\n",
    "These have known festivity values, and we just need to calculate when exactly they are. "
   ]
  },
  {
   "cell_type": "code",
   "execution_count": 15,
   "id": "1e77018f-a5e6-4b49-8c4a-5eb630f17014",
   "metadata": {},
   "outputs": [],
   "source": [
    "def get_midpoint_date(date1: datetime, date2: datetime) -> datetime:\n",
    "    \"\"\"\n",
    "    Returns the midpoint date between two datetime objects.\n",
    "    \"\"\"\n",
    "    return date1 + (date2 - date1) / 2\n",
    "\n",
    "def get_holidays(year: int) -> list:\n",
    "    \"\"\"\n",
    "    Generates a series of dates for the specified year, including\n",
    "    major holidays, cross-quarters, and nadirs.\n",
    "    \n",
    "    Parameters:\n",
    "    - year: The year for which to generate the holidays (int).\n",
    "    \n",
    "    Returns:\n",
    "    - A list of 16 dates representing the holidays.\n",
    "    \"\"\"\n",
    "    # Major holidays\n",
    "    prev_winter_solstice = datetime(year - 1, 12, 21)\n",
    "    spring_equinox = datetime(year, 3, 20)\n",
    "    summer_solstice = datetime(year, 6, 21)\n",
    "    fall_equinox = datetime(year, 9, 22)\n",
    "    winter_solstice = datetime(year, 12, 21)\n",
    "\n",
    "    major_holidays = [\n",
    "        prev_winter_solstice,\n",
    "        fall_equinox,\n",
    "        winter_solstice,\n",
    "        spring_equinox,\n",
    "        summer_solstice\n",
    "    ]\n",
    "    major_holidays = sorted(major_holidays)\n",
    "    # Calculate cross-quarters\n",
    "    cross_quarters = [\n",
    "        get_midpoint_date(major_holidays[i], major_holidays[i + 1])\n",
    "        for i in range(len(major_holidays) - 1)\n",
    "    ]\n",
    "    cross_quarters.append(get_midpoint_date(winter_solstice, prev_winter_solstice))\n",
    "    cross_quarters = sorted(cross_quarters)\n",
    "    \n",
    "    # Complete series of major and minor holidays\n",
    "    holidays = []\n",
    "    for i in range(len(major_holidays)):\n",
    "        holidays.append(major_holidays[i])\n",
    "        holidays.append(cross_quarters[i])\n",
    "\n",
    "    holidays = sorted(holidays)\n",
    "    # Calculate nadirs\n",
    "    nadirs = [\n",
    "        get_midpoint_date(holidays[i], holidays[i + 1])\n",
    "        for i in range(len(holidays) - 1)\n",
    "    ]\n",
    "\n",
    "    # Combine major holidays, cross-quarters, and nadirs into the final series\n",
    "    final_series = []\n",
    "    for i in range(len(holidays) - 1):\n",
    "        final_series.append(holidays[i])\n",
    "        final_series.append(nadirs[i])\n",
    "    final_series.append(holidays[-1])  # Add the last major holiday\n",
    "    final_series = sorted(final_series)\n",
    "\n",
    "    final_series.pop(0)\n",
    "    final_series = list(set(final_series))\n",
    "    \n",
    "    # Convert to readable format\n",
    "    formatted_series = [date.strftime(\"%Y/%m/%d\") for date in final_series]\n",
    "\n",
    "    return formatted_series\n"
   ]
  },
  {
   "cell_type": "markdown",
   "id": "699ff441-9de2-4f59-baad-21a93c5c033b",
   "metadata": {},
   "source": [
    "Test"
   ]
  },
  {
   "cell_type": "code",
   "execution_count": 16,
   "id": "b64805bb-1398-4288-af59-04ede2aa84af",
   "metadata": {},
   "outputs": [
    {
     "name": "stdout",
     "output_type": "stream",
     "text": [
      "['2024/06/21', '2024/08/06', '2024/02/04', '2024/02/26', '2024/05/28', '2024/11/06', '2024/05/05', '2024/10/14', '2024/01/12', '2024/11/28', '2024/12/21', '2024/07/14', '2024/04/12', '2024/08/29', '2024/09/22', '2024/03/20']\n"
     ]
    }
   ],
   "source": [
    "# Example usage: Get holidays for 2024\n",
    "holidays_2024 = get_holidays(2024)\n",
    "print(holidays_2024)"
   ]
  },
  {
   "cell_type": "code",
   "execution_count": 9,
   "id": "bfb4f16e-51d8-4457-bbc5-50834cb6ac64",
   "metadata": {},
   "outputs": [
    {
     "data": {
      "text/plain": [
       "16"
      ]
     },
     "execution_count": 9,
     "metadata": {},
     "output_type": "execute_result"
    }
   ],
   "source": [
    "len(holidays_2024)"
   ]
  },
  {
   "cell_type": "markdown",
   "id": "a8b7572e-8167-4e22-8f05-8f291fc09db7",
   "metadata": {},
   "source": [
    "## Create a table of holidays aong with celebrations\n",
    "\n",
    "I've got a list of the holidays, and the traditions we established for each of them. I want to add the dates for the calendar year so that we know what day to celebrate what!"
   ]
  },
  {
   "cell_type": "code",
   "execution_count": 17,
   "id": "0bc0924f-39d2-48b3-83df-3853c9378b29",
   "metadata": {},
   "outputs": [],
   "source": [
    "import pandas as pd\n",
    "\n",
    "hol = pd.read_csv(\"holidays.csv\")\n",
    "\n",
    "def add_dates_to_holiday_table(year: int, holiday_table: pd.DataFrame) -> pd.DataFrame:\n",
    "    \"\"\"\n",
    "    Adds a column of dates to the given holiday table based on the specified year.\n",
    "    \n",
    "    Parameters:\n",
    "    - year: The year for which to generate the holiday dates (int).\n",
    "    - holiday_table: The DataFrame containing holiday names and celebrations.\n",
    "    \n",
    "    Returns:\n",
    "    - A DataFrame with an additional column for the calculated holiday dates.\n",
    "    \"\"\"\n",
    "    # Get the list of 16 holiday dates for the specified year\n",
    "    holiday_dates = get_holidays(year)\n",
    "    \n",
    "    # Add the dates to the DataFrame as a new column\n",
    "    holiday_table['Date'] = holiday_dates\n",
    "    \n",
    "    return holiday_table\n"
   ]
  },
  {
   "cell_type": "markdown",
   "id": "cfdeef51-ee7f-4fea-ae13-5b627e8b40b1",
   "metadata": {},
   "source": [
    "Test"
   ]
  },
  {
   "cell_type": "code",
   "execution_count": 18,
   "id": "0e86f1ca-e728-4101-8c6b-971609ee8dfb",
   "metadata": {},
   "outputs": [
    {
     "data": {
      "text/html": [
       "<div>\n",
       "<style scoped>\n",
       "    .dataframe tbody tr th:only-of-type {\n",
       "        vertical-align: middle;\n",
       "    }\n",
       "\n",
       "    .dataframe tbody tr th {\n",
       "        vertical-align: top;\n",
       "    }\n",
       "\n",
       "    .dataframe thead th {\n",
       "        text-align: right;\n",
       "    }\n",
       "</style>\n",
       "<table border=\"1\" class=\"dataframe\">\n",
       "  <thead>\n",
       "    <tr style=\"text-align: right;\">\n",
       "      <th></th>\n",
       "      <th>Index</th>\n",
       "      <th>Holiday Name</th>\n",
       "      <th>Celebrations</th>\n",
       "      <th>Date</th>\n",
       "    </tr>\n",
       "  </thead>\n",
       "  <tbody>\n",
       "    <tr>\n",
       "      <th>0</th>\n",
       "      <td>0</td>\n",
       "      <td>First Winter Nadir</td>\n",
       "      <td>getting rid of our Christmas tree, preparing o...</td>\n",
       "      <td>2024/06/21</td>\n",
       "    </tr>\n",
       "    <tr>\n",
       "      <th>1</th>\n",
       "      <td>1</td>\n",
       "      <td>Winter Cross Quarter</td>\n",
       "      <td>getting tight on rum and watching The Rocky Ho...</td>\n",
       "      <td>2024/08/06</td>\n",
       "    </tr>\n",
       "    <tr>\n",
       "      <th>2</th>\n",
       "      <td>2</td>\n",
       "      <td>Second Winter Nadir</td>\n",
       "      <td>making dental appointments.</td>\n",
       "      <td>2024/02/04</td>\n",
       "    </tr>\n",
       "    <tr>\n",
       "      <th>3</th>\n",
       "      <td>3</td>\n",
       "      <td>Vernal Equinox</td>\n",
       "      <td>eating eggs benedict and jousting peeps in the...</td>\n",
       "      <td>2024/02/26</td>\n",
       "    </tr>\n",
       "    <tr>\n",
       "      <th>4</th>\n",
       "      <td>4</td>\n",
       "      <td>First Spring Nadir</td>\n",
       "      <td>giving away clothes that don't fit or that we ...</td>\n",
       "      <td>2024/05/28</td>\n",
       "    </tr>\n",
       "    <tr>\n",
       "      <th>5</th>\n",
       "      <td>5</td>\n",
       "      <td>Spring Cross Quarter</td>\n",
       "      <td>singing Solidarity Forever and going out for a...</td>\n",
       "      <td>2024/11/06</td>\n",
       "    </tr>\n",
       "    <tr>\n",
       "      <th>6</th>\n",
       "      <td>6</td>\n",
       "      <td>Second Spring Nadir</td>\n",
       "      <td>getting rid of things we wouldn't want to move...</td>\n",
       "      <td>2024/05/05</td>\n",
       "    </tr>\n",
       "    <tr>\n",
       "      <th>7</th>\n",
       "      <td>7</td>\n",
       "      <td>Summer Solstice</td>\n",
       "      <td>putting up paper lanterns and watching a produ...</td>\n",
       "      <td>2024/10/14</td>\n",
       "    </tr>\n",
       "    <tr>\n",
       "      <th>8</th>\n",
       "      <td>8</td>\n",
       "      <td>First Summer Nadir</td>\n",
       "      <td>evaluating family finances.</td>\n",
       "      <td>2024/01/12</td>\n",
       "    </tr>\n",
       "    <tr>\n",
       "      <th>9</th>\n",
       "      <td>9</td>\n",
       "      <td>Summer Cross Quarter</td>\n",
       "      <td>making fancy cheese boards with bread and wine...</td>\n",
       "      <td>2024/11/28</td>\n",
       "    </tr>\n",
       "    <tr>\n",
       "      <th>10</th>\n",
       "      <td>10</td>\n",
       "      <td>Second Summer Nadir</td>\n",
       "      <td>making dental appointments.</td>\n",
       "      <td>2024/12/21</td>\n",
       "    </tr>\n",
       "    <tr>\n",
       "      <th>11</th>\n",
       "      <td>11</td>\n",
       "      <td>Autumnal Equinox</td>\n",
       "      <td>eating raw oysters, black and white cookies, o...</td>\n",
       "      <td>2024/07/14</td>\n",
       "    </tr>\n",
       "    <tr>\n",
       "      <th>12</th>\n",
       "      <td>12</td>\n",
       "      <td>First Autumn Nadir</td>\n",
       "      <td>updating resumes and CVs.</td>\n",
       "      <td>2024/04/12</td>\n",
       "    </tr>\n",
       "    <tr>\n",
       "      <th>13</th>\n",
       "      <td>13</td>\n",
       "      <td>AutumnCrossQuarter</td>\n",
       "      <td>eating quince cobbler.</td>\n",
       "      <td>2024/08/29</td>\n",
       "    </tr>\n",
       "    <tr>\n",
       "      <th>14</th>\n",
       "      <td>14</td>\n",
       "      <td>Second Autumn Nadir</td>\n",
       "      <td>setting up our Christmas tree.</td>\n",
       "      <td>2024/09/22</td>\n",
       "    </tr>\n",
       "    <tr>\n",
       "      <th>15</th>\n",
       "      <td>15</td>\n",
       "      <td>Winter Solstice</td>\n",
       "      <td>setting something on fire then eating or drink...</td>\n",
       "      <td>2024/03/20</td>\n",
       "    </tr>\n",
       "  </tbody>\n",
       "</table>\n",
       "</div>"
      ],
      "text/plain": [
       "    Index          Holiday Name  \\\n",
       "0       0    First Winter Nadir   \n",
       "1       1  Winter Cross Quarter   \n",
       "2       2   Second Winter Nadir   \n",
       "3       3        Vernal Equinox   \n",
       "4       4    First Spring Nadir   \n",
       "5       5  Spring Cross Quarter   \n",
       "6       6   Second Spring Nadir   \n",
       "7       7       Summer Solstice   \n",
       "8       8    First Summer Nadir   \n",
       "9       9  Summer Cross Quarter   \n",
       "10     10   Second Summer Nadir   \n",
       "11     11      Autumnal Equinox   \n",
       "12     12    First Autumn Nadir   \n",
       "13     13    AutumnCrossQuarter   \n",
       "14     14   Second Autumn Nadir   \n",
       "15     15       Winter Solstice   \n",
       "\n",
       "                                         Celebrations        Date  \n",
       "0   getting rid of our Christmas tree, preparing o...  2024/06/21  \n",
       "1   getting tight on rum and watching The Rocky Ho...  2024/08/06  \n",
       "2                         making dental appointments.  2024/02/04  \n",
       "3   eating eggs benedict and jousting peeps in the...  2024/02/26  \n",
       "4   giving away clothes that don't fit or that we ...  2024/05/28  \n",
       "5   singing Solidarity Forever and going out for a...  2024/11/06  \n",
       "6   getting rid of things we wouldn't want to move...  2024/05/05  \n",
       "7   putting up paper lanterns and watching a produ...  2024/10/14  \n",
       "8                         evaluating family finances.  2024/01/12  \n",
       "9   making fancy cheese boards with bread and wine...  2024/11/28  \n",
       "10                        making dental appointments.  2024/12/21  \n",
       "11  eating raw oysters, black and white cookies, o...  2024/07/14  \n",
       "12                          updating resumes and CVs.  2024/04/12  \n",
       "13                             eating quince cobbler.  2024/08/29  \n",
       "14                     setting up our Christmas tree.  2024/09/22  \n",
       "15  setting something on fire then eating or drink...  2024/03/20  "
      ]
     },
     "execution_count": 18,
     "metadata": {},
     "output_type": "execute_result"
    }
   ],
   "source": [
    "## example: \n",
    "add_dates_to_holiday_table(2024, hol)"
   ]
  },
  {
   "cell_type": "code",
   "execution_count": null,
   "id": "808798f2-a10b-48f6-ab3b-416553695b28",
   "metadata": {},
   "outputs": [],
   "source": []
  }
 ],
 "metadata": {
  "kernelspec": {
   "display_name": "Python 3 (ipykernel)",
   "language": "python",
   "name": "python3"
  },
  "language_info": {
   "codemirror_mode": {
    "name": "ipython",
    "version": 3
   },
   "file_extension": ".py",
   "mimetype": "text/x-python",
   "name": "python",
   "nbconvert_exporter": "python",
   "pygments_lexer": "ipython3",
   "version": "3.11.6"
  }
 },
 "nbformat": 4,
 "nbformat_minor": 5
}
